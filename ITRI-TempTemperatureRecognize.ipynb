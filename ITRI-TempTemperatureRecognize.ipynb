## Code

#攝氏60以上判斷有問題

#setting

threshold = 60
isError = False

import csv
from pprint import pprint
import os



def getMaxTemperature(file):
    index = -1
    maxTemperature = 0
    
    for row in file:
            
        index = index + 1
        
# 第5行開始才是溫度資料
        if index >= 5:
        
     
            eachRow = row.decode('utf-8')
 
            
            firstPoint = True
            
            for i in range(len(eachRow)):
                
                if firstPoint == True  :    #去除每列的index
                    if eachRow[i] == ',':
                        firstPoint = False
                    continue
                    
                else :

                    if eachRow[i] == ',':
                        
                        if eachRow[i-12] ==',' and eachRow[i-10].isnumeric() == True and eachRow[i-8].isnumeric() ==True and eachRow[i-6].isnumeric() == True and eachRow[i-4] == '.' and eachRow[i-2].isnumeric() ==True  : #for 123.1
                            tmp = 0
                            tmp =int(eachRow[i-10])*100 + int(eachRow[i-8]) * 10 + int(eachRow[i-6]) + int(eachRow[i-2]) * 0.1
                            
                        elif eachRow[i-8] == ',' and eachRow[i-4].isnumeric() ==True and eachRow[i-6].isnumeric() ==True and eachRow[i-2].isnumeric() == True : #for 123
                            tmp = 0
                            tmp = int(eachRow[i-6]) * 100 + int(eachRow[i-4]) * 10 + int(eachRow[i-2]) 
                            
                        elif eachRow[i-4] == ',':   # for : 9
                            tmp = 0
                            tmp = int(eachRow[i-2])
                        
                        elif eachRow[i-6] == ',':   #for:10
                            tmp = 0
                            tmp = int(eachRow[i-4]) * 10 + int(eachRow[i-2])

                        else:
                            if eachRow[i-8] == ',':   # for : 9.5
                                tmp = 0
                                int(eachRow[i-6]) + int(eachRow[i-2]) * 0.1
                            else:                       # for : 40.8
                                tmp = 0
                                tmp = int(eachRow[i-8]) * 10 + int(eachRow[i-6]) + int(eachRow[i-2]) * 0.1

               

                        if tmp > maxTemperature:
                            maxTemperature = tmp
                        
    return maxTemperature


def isError(maxTemperature):
    if maxTemperature >= threshold:
        return True
    else:
        return False
    
    

if __name__ == "__main__":
    
    fileList = os.listdir('../Recognize/ITRI_PV_Dataset')
    
    for i in range(len(fileList)):
        
        #if i == len(fileList)-1 :
        #    break
        
        name = 'ITRI_PV_Dataset/'

        fileName =  name + fileList[i]
        
        file = open(fileName, "rb") 

        maxTemperature = getMaxTemperature(file)
        
        

        print(fileName,end='\t')
        print(maxTemperature,end='\t')
        print(isError(maxTemperature),end='\n')            
                
                



